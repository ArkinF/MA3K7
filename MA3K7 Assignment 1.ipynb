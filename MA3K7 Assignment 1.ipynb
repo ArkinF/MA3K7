{
 "cells": [
  {
   "cell_type": "code",
   "execution_count": 1,
   "id": "f23cc72a",
   "metadata": {},
   "outputs": [],
   "source": [
    "import numpy as np"
   ]
  },
  {
   "cell_type": "code",
   "execution_count": 2,
   "id": "f192410e",
   "metadata": {},
   "outputs": [],
   "source": [
    "def next_term(a,b):\n",
    "    return (a+b)%10"
   ]
  },
  {
   "cell_type": "code",
   "execution_count": 6,
   "id": "199e13cd",
   "metadata": {},
   "outputs": [],
   "source": [
    "def chain_creator(a,b):\n",
    "    \n",
    "    chain = [a,b]\n",
    "    chain.append(next_term(a,b))\n",
    "    count = 2\n",
    "    repeated = False\n",
    "    while not repeated:\n",
    "        chain.append(next_term(chain[count-1],chain[count]))\n",
    "#         print(chain)\n",
    "#         print(chain[count], chain[count+1])\n",
    "#         print()\n",
    "        if chain[count]==a and chain[count+1]==b:\n",
    "            repeated = True\n",
    "        count += 1\n",
    "#         if count == 30:\n",
    "#             repeated = True\n",
    "    chain.pop()\n",
    "    chain.pop()\n",
    "    dupes = duplicate_checker(chain)\n",
    "    print(f'Length of chain: {count-1}')\n",
    "    return chain, dupes"
   ]
  },
  {
   "cell_type": "code",
   "execution_count": 7,
   "id": "46ee3720",
   "metadata": {},
   "outputs": [],
   "source": [
    "def duplicate_checker(chn):\n",
    "    duplicates = []\n",
    "    for i in range(len(chn)-1):\n",
    "        duplicates.append((chn[i], chn[i+1]))\n",
    "    duplicates.append((chn[-1], chn[0]))\n",
    "    return duplicates"
   ]
  },
  {
   "cell_type": "code",
   "execution_count": 8,
   "id": "8279fdc2",
   "metadata": {
    "scrolled": true
   },
   "outputs": [
    {
     "name": "stdout",
     "output_type": "stream",
     "text": [
      "Length of chain: 2\n",
      "[0, 0]\n",
      "\n",
      "Length of chain: 60\n",
      "[0, 1, 1, 2, 3, 5, 8, 3, 1, 4, 5, 9, 4, 3, 7, 0, 7, 7, 4, 1, 5, 6, 1, 7, 8, 5, 3, 8, 1, 9, 0, 9, 9, 8, 7, 5, 2, 7, 9, 6, 5, 1, 6, 7, 3, 0, 3, 3, 6, 9, 5, 4, 9, 3, 2, 5, 7, 2, 9, 1]\n",
      "\n",
      "Length of chain: 20\n",
      "[0, 2, 2, 4, 6, 0, 6, 6, 2, 8, 0, 8, 8, 6, 4, 0, 4, 4, 8, 2]\n",
      "\n",
      "Length of chain: 3\n",
      "[0, 5, 5]\n",
      "\n",
      "Length of chain: 12\n",
      "[1, 3, 4, 7, 1, 8, 9, 7, 6, 3, 9, 2]\n",
      "\n",
      "Length of chain: 4\n",
      "[2, 6, 8, 4]\n",
      "\n"
     ]
    }
   ],
   "source": [
    "duplicate_list = []\n",
    "\n",
    "for i in range(10):\n",
    "    for j in range(10):\n",
    "        if (i,j) not in duplicate_list:\n",
    "            x, y = chain_creator(i, j)\n",
    "            duplicate_list.extend(y)\n",
    "            print(x)\n",
    "            print()\n",
    "#             print(duplicate_list)"
   ]
  },
  {
   "cell_type": "code",
   "execution_count": null,
   "id": "b1d335bd",
   "metadata": {},
   "outputs": [],
   "source": []
  }
 ],
 "metadata": {
  "kernelspec": {
   "display_name": "Python 3 (ipykernel)",
   "language": "python",
   "name": "python3"
  },
  "language_info": {
   "codemirror_mode": {
    "name": "ipython",
    "version": 3
   },
   "file_extension": ".py",
   "mimetype": "text/x-python",
   "name": "python",
   "nbconvert_exporter": "python",
   "pygments_lexer": "ipython3",
   "version": "3.11.5"
  }
 },
 "nbformat": 4,
 "nbformat_minor": 5
}
