{
 "cells": [
  {
   "cell_type": "markdown",
   "id": "567697bb",
   "metadata": {},
   "source": [
    "### Imports"
   ]
  },
  {
   "cell_type": "code",
   "execution_count": 2,
   "id": "5161dd4d",
   "metadata": {
    "ExecuteTime": {
     "end_time": "2024-03-14T16:11:11.524044Z",
     "start_time": "2024-03-14T16:11:10.796498Z"
    }
   },
   "outputs": [],
   "source": [
    "import numpy as np\n",
    "import matplotlib.pyplot as plt\n",
    "import itertools\n",
    "import pandas as pd\n",
    "import random\n"
   ]
  },
  {
   "cell_type": "markdown",
   "id": "eb2863ed",
   "metadata": {},
   "source": [
    "### Functions"
   ]
  },
  {
   "cell_type": "code",
   "execution_count": 3,
   "id": "2a267bbf",
   "metadata": {
    "ExecuteTime": {
     "end_time": "2024-03-14T16:11:13.552156Z",
     "start_time": "2024-03-14T16:11:13.544861Z"
    }
   },
   "outputs": [],
   "source": [
    "def strings_old(n):\n",
    "    string_list = [str(i) for i in range(n)]\n",
    "    closed_loops = []\n",
    "    for _ in range(n):\n",
    "        a = random.choice(string_list)\n",
    "        b = random.choice(string_list)\n",
    "        if a == b:\n",
    "            string_list.remove(a)\n",
    "            closed_loops.append(a)\n",
    "        else:\n",
    "            string_list.remove(a)\n",
    "            string_list.remove(b)\n",
    "            string_list.append(a+b)\n",
    "    return closed_loops"
   ]
  },
  {
   "cell_type": "code",
   "execution_count": 4,
   "id": "e5be4eb6",
   "metadata": {
    "ExecuteTime": {
     "end_time": "2024-03-14T16:11:13.897600Z",
     "start_time": "2024-03-14T16:11:13.892895Z"
    }
   },
   "outputs": [],
   "source": [
    "def strings(n):\n",
    "    string_list = [[i] for i in range(n)]\n",
    "    closed_loops = []\n",
    "    for _ in range(n):\n",
    "        a = random.choice(string_list)\n",
    "        b = random.choice(string_list)\n",
    "        if a == b:\n",
    "            string_list.remove(a)\n",
    "            closed_loops.append(len(a))\n",
    "        else:\n",
    "            string_list.remove(b)\n",
    "            for element in b:\n",
    "                a.append(element)\n",
    "    return closed_loops"
   ]
  },
  {
   "cell_type": "code",
   "execution_count": 5,
   "id": "f29897bf",
   "metadata": {
    "ExecuteTime": {
     "end_time": "2024-03-14T16:11:14.339148Z",
     "start_time": "2024-03-14T16:11:14.334456Z"
    }
   },
   "outputs": [],
   "source": [
    "def eval_metrics(n, iterations):\n",
    "    \n",
    "    big_loops = 0\n",
    "    avg_loops = 0\n",
    "    biggest = 0\n",
    "    smallest = 0\n",
    "    \n",
    "    for i in range(iterations):\n",
    "        s = strings(n)\n",
    "        if max(s) > n/2:\n",
    "            big_loops += 1\n",
    "            avg_loops += len(s)\n",
    "            biggest += max(s)\n",
    "            smallest += min(s)\n",
    "\n",
    "    big_loops /= iterations\n",
    "    avg_loops /= iterations \n",
    "    avg_length = n / avg_loops\n",
    "    biggest /= iterations\n",
    "    smallest /= iterations\n",
    "\n",
    "    return big_loops, avg_loops, avg_length, biggest, smallest"
   ]
  },
  {
   "cell_type": "markdown",
   "id": "090407c5",
   "metadata": {},
   "source": [
    "### Main"
   ]
  },
  {
   "cell_type": "code",
   "execution_count": 6,
   "id": "d3da8e4b",
   "metadata": {
    "ExecuteTime": {
     "end_time": "2024-03-14T16:11:27.622353Z",
     "start_time": "2024-03-14T16:11:16.084089Z"
    }
   },
   "outputs": [
    {
     "data": {
      "text/html": [
       "<div>\n",
       "<style scoped>\n",
       "    .dataframe tbody tr th:only-of-type {\n",
       "        vertical-align: middle;\n",
       "    }\n",
       "\n",
       "    .dataframe tbody tr th {\n",
       "        vertical-align: top;\n",
       "    }\n",
       "\n",
       "    .dataframe thead th {\n",
       "        text-align: right;\n",
       "    }\n",
       "</style>\n",
       "<table border=\"1\" class=\"dataframe\">\n",
       "  <thead>\n",
       "    <tr style=\"text-align: right;\">\n",
       "      <th></th>\n",
       "      <th>Data</th>\n",
       "      <th>Value</th>\n",
       "    </tr>\n",
       "  </thead>\n",
       "  <tbody>\n",
       "    <tr>\n",
       "      <th>0</th>\n",
       "      <td>Loops&gt;50.0</td>\n",
       "      <td>0.687200</td>\n",
       "    </tr>\n",
       "    <tr>\n",
       "      <th>1</th>\n",
       "      <td>Avg loops</td>\n",
       "      <td>3.198000</td>\n",
       "    </tr>\n",
       "    <tr>\n",
       "      <th>2</th>\n",
       "      <td>Avg length</td>\n",
       "      <td>31.269543</td>\n",
       "    </tr>\n",
       "    <tr>\n",
       "      <th>3</th>\n",
       "      <td>Avg max</td>\n",
       "      <td>49.930680</td>\n",
       "    </tr>\n",
       "    <tr>\n",
       "      <th>4</th>\n",
       "      <td>Avg min</td>\n",
       "      <td>2.934890</td>\n",
       "    </tr>\n",
       "  </tbody>\n",
       "</table>\n",
       "</div>"
      ],
      "text/plain": [
       "         Data      Value\n",
       "0  Loops>50.0   0.687200\n",
       "1   Avg loops   3.198000\n",
       "2  Avg length  31.269543\n",
       "3     Avg max  49.930680\n",
       "4     Avg min   2.934890"
      ]
     },
     "metadata": {},
     "output_type": "display_data"
    }
   ],
   "source": [
    "n = 100\n",
    "iterations = 100000\n",
    "\n",
    "df = pd.DataFrame({\n",
    "    'Data': [f'Loops>{n/2}', 'Avg loops', 'Avg length', 'Avg max', 'Avg min'],\n",
    "    'Value': eval_metrics(n, iterations)\n",
    "})\n",
    "\n",
    "display(df)"
   ]
  },
  {
   "cell_type": "code",
   "execution_count": 128,
   "id": "3a873349",
   "metadata": {
    "ExecuteTime": {
     "end_time": "2024-03-14T17:04:16.309002Z",
     "start_time": "2024-03-14T17:04:16.178996Z"
    }
   },
   "outputs": [
    {
     "name": "stdout",
     "output_type": "stream",
     "text": [
      "0.8318242380450398 0.6427355743567134\n"
     ]
    }
   ],
   "source": [
    "# how important is luck in selection processes?\n",
    "applicants = 100000\n",
    "scores = []\n",
    "selections = 100\n",
    "\n",
    "for i in range(applicants):\n",
    "    skill = np.random.normal(0.5,0.1)\n",
    "    luck = random.random()\n",
    "    scores.append(((skill, luck), skill + 0.05*luck))\n",
    "\n",
    "sorted_scores = sorted(scores, key = lambda element:element[1], reverse = True)\n",
    "sorted_scores = sorted_scores[:selections]\n",
    "\n",
    "skills = [e[0][0] for e in sorted_scores]\n",
    "lucks = [e[0][1] for e in sorted_scores]\n",
    "\n",
    "average_skill = sum(skills) / selections\n",
    "average_luck = sum(lucks) / selections\n",
    "\n",
    "print(average_skill, average_luck)\n"
   ]
  },
  {
   "cell_type": "code",
   "execution_count": null,
   "id": "31e2527e",
   "metadata": {},
   "outputs": [],
   "source": []
  }
 ],
 "metadata": {
  "hide_input": false,
  "kernelspec": {
   "display_name": "Python 3 (ipykernel)",
   "language": "python",
   "name": "python3"
  },
  "language_info": {
   "codemirror_mode": {
    "name": "ipython",
    "version": 3
   },
   "file_extension": ".py",
   "mimetype": "text/x-python",
   "name": "python",
   "nbconvert_exporter": "python",
   "pygments_lexer": "ipython3",
   "version": "3.11.5"
  }
 },
 "nbformat": 4,
 "nbformat_minor": 5
}
