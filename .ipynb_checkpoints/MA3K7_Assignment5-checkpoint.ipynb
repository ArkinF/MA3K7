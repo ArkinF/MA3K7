{
 "cells": [
  {
   "cell_type": "markdown",
   "id": "d104c618",
   "metadata": {},
   "source": [
    "### Imports"
   ]
  },
  {
   "cell_type": "code",
   "execution_count": 1,
   "id": "afc794f4",
   "metadata": {
    "ExecuteTime": {
     "end_time": "2024-03-18T09:04:23.212228Z",
     "start_time": "2024-03-18T09:04:22.486701Z"
    }
   },
   "outputs": [],
   "source": [
    "import numpy as np\n",
    "import matplotlib.pyplot as plt\n",
    "import random\n",
    "import itertools\n",
    "import pandas as pd\n",
    "from tqdm import tqdm\n"
   ]
  },
  {
   "cell_type": "markdown",
   "id": "97abd6d9",
   "metadata": {},
   "source": [
    "### Functions"
   ]
  },
  {
   "cell_type": "markdown",
   "id": "5f317037",
   "metadata": {
    "ExecuteTime": {
     "end_time": "2024-03-18T08:34:31.353447Z",
     "start_time": "2024-03-18T08:34:31.349444Z"
    },
    "heading_collapsed": true
   },
   "source": [
    "#### Main"
   ]
  },
  {
   "cell_type": "code",
   "execution_count": 2,
   "id": "5f001418",
   "metadata": {
    "ExecuteTime": {
     "end_time": "2024-03-18T09:04:23.216147Z",
     "start_time": "2024-03-18T09:04:23.213321Z"
    },
    "hidden": true
   },
   "outputs": [],
   "source": [
    "def check_next_to(a, b, sequence):\n",
    "  \n",
    "    '''checks if two elements are next to each other'''\n",
    "    \n",
    "    if a not in sequence or b not in sequence:\n",
    "        return False\n",
    "    \n",
    "    i = sequence.index(a)\n",
    "    \n",
    "    if i == 0:\n",
    "        if sequence[i+1] == b:\n",
    "            return True\n",
    "    elif i == len(sequence) - 1:\n",
    "        if sequence[i-1] == b:\n",
    "            return True\n",
    "    else:\n",
    "        if sequence[i+1] == b or sequence[i-1] == b:\n",
    "            return True\n",
    "    \n",
    "    return False"
   ]
  },
  {
   "cell_type": "code",
   "execution_count": 3,
   "id": "79166729",
   "metadata": {
    "ExecuteTime": {
     "end_time": "2024-03-18T09:04:23.219707Z",
     "start_time": "2024-03-18T09:04:23.217733Z"
    },
    "hidden": true
   },
   "outputs": [],
   "source": [
    "def rule_checker_4(sequence):\n",
    "    \n",
    "    '''checks sequence is possible for the 2x2 case'''\n",
    "    \n",
    "    checks = [\n",
    "        check_next_to(1, 4, sequence),\n",
    "        check_next_to(2, 3, sequence)\n",
    "    ]\n",
    "    \n",
    "    if True in checks:\n",
    "        return False\n",
    "\n",
    "    return True\n"
   ]
  },
  {
   "cell_type": "code",
   "execution_count": 4,
   "id": "e60bc828",
   "metadata": {
    "ExecuteTime": {
     "end_time": "2024-03-18T09:04:23.224881Z",
     "start_time": "2024-03-18T09:04:23.221631Z"
    },
    "hidden": true
   },
   "outputs": [],
   "source": [
    "def rule_checker_9(sequence):\n",
    "    \n",
    "    '''checks sequence is possible for the 3x3 case'''\n",
    "\n",
    "    checks = [\n",
    "        check_next_to(1, 3, sequence),\n",
    "        check_next_to(1, 5, sequence),\n",
    "        check_next_to(1, 6, sequence),\n",
    "        check_next_to(1, 7, sequence),\n",
    "        check_next_to(1, 8, sequence),\n",
    "        check_next_to(1, 9, sequence),\n",
    "        check_next_to(2, 4, sequence),\n",
    "        check_next_to(2, 6, sequence),\n",
    "        check_next_to(2, 7, sequence),\n",
    "        check_next_to(2, 8, sequence),\n",
    "        check_next_to(2, 9, sequence),\n",
    "        check_next_to(3, 4, sequence),\n",
    "        check_next_to(3, 5, sequence),\n",
    "        check_next_to(3, 7, sequence),\n",
    "        check_next_to(3, 8, sequence),\n",
    "        check_next_to(3, 9, sequence),\n",
    "        check_next_to(4, 6, sequence),\n",
    "        check_next_to(4, 8, sequence),\n",
    "        check_next_to(4, 9, sequence),\n",
    "        check_next_to(5, 7, sequence),\n",
    "        check_next_to(5, 9, sequence),\n",
    "        check_next_to(6, 7, sequence),\n",
    "        check_next_to(6, 8, sequence),\n",
    "        check_next_to(7, 9, sequence)\n",
    "    ]\n",
    "    \n",
    "    if True in checks:\n",
    "        return False\n",
    "\n",
    "    return True\n"
   ]
  },
  {
   "cell_type": "markdown",
   "id": "77733850",
   "metadata": {
    "heading_collapsed": true
   },
   "source": [
    "#### Extension Functions"
   ]
  },
  {
   "cell_type": "code",
   "execution_count": 5,
   "id": "91b687db",
   "metadata": {
    "ExecuteTime": {
     "end_time": "2024-03-18T09:04:23.228404Z",
     "start_time": "2024-03-18T09:04:23.225745Z"
    },
    "hidden": true
   },
   "outputs": [],
   "source": [
    "def rule_checker_9_diag(sequence):\n",
    "    \n",
    "    '''checks sequence is possible for the 3x3 case with diagonals allowed'''\n",
    "\n",
    "    checks = [\n",
    "        check_next_to(1, 3, sequence),\n",
    "        check_next_to(1, 6, sequence),\n",
    "        check_next_to(1, 7, sequence),\n",
    "        check_next_to(1, 8, sequence),\n",
    "        check_next_to(1, 9, sequence),\n",
    "        check_next_to(2, 7, sequence),\n",
    "        check_next_to(2, 8, sequence),\n",
    "        check_next_to(2, 9, sequence),\n",
    "        check_next_to(3, 4, sequence),\n",
    "        check_next_to(3, 7, sequence),\n",
    "        check_next_to(3, 8, sequence),\n",
    "        check_next_to(3, 9, sequence),\n",
    "        check_next_to(4, 6, sequence),\n",
    "        check_next_to(4, 9, sequence),\n",
    "        check_next_to(6, 7, sequence),\n",
    "        check_next_to(7, 9, sequence)\n",
    "    ]\n",
    "    \n",
    "    if True in checks:\n",
    "        return False\n",
    "\n",
    "    return True\n"
   ]
  },
  {
   "cell_type": "code",
   "execution_count": 6,
   "id": "d42a0d65",
   "metadata": {
    "ExecuteTime": {
     "end_time": "2024-03-18T09:04:23.232693Z",
     "start_time": "2024-03-18T09:04:23.229657Z"
    },
    "hidden": true
   },
   "outputs": [],
   "source": [
    "def rule_checker_9_leap(sequence):\n",
    "    \n",
    "    '''checks sequence is possible for the 3x3 case with leaps allowed'''\n",
    "\n",
    "    checks = [\n",
    "        check_next_to(1, 5, sequence),\n",
    "        check_next_to(1, 6, sequence),\n",
    "        check_next_to(1, 8, sequence),\n",
    "        check_next_to(1, 9, sequence),\n",
    "        check_next_to(2, 4, sequence),\n",
    "        check_next_to(2, 6, sequence),\n",
    "        check_next_to(2, 7, sequence),\n",
    "        check_next_to(2, 9, sequence),\n",
    "        check_next_to(3, 4, sequence),\n",
    "        check_next_to(3, 5, sequence),\n",
    "        check_next_to(3, 7, sequence),\n",
    "        check_next_to(3, 8, sequence),\n",
    "        check_next_to(4, 8, sequence),\n",
    "        check_next_to(4, 9, sequence),\n",
    "        check_next_to(5, 7, sequence),\n",
    "        check_next_to(5, 9, sequence),\n",
    "        check_next_to(6, 7, sequence),\n",
    "        check_next_to(6, 8, sequence),\n",
    "    ]\n",
    "    \n",
    "    if True in checks:\n",
    "        return False\n",
    "\n",
    "    return True\n"
   ]
  },
  {
   "cell_type": "code",
   "execution_count": 7,
   "id": "d967203b",
   "metadata": {
    "ExecuteTime": {
     "end_time": "2024-03-18T09:04:40.290195Z",
     "start_time": "2024-03-18T09:04:36.567265Z"
    }
   },
   "outputs": [],
   "source": [
    "def rule_checker_9_knight(sequence):\n",
    "    \n",
    "    '''checks sequence is possible for the 3x3 case with knight movements allowed'''\n",
    "\n",
    "    checks = [\n",
    "        check_next_to(1, 3, sequence),\n",
    "        check_next_to(1, 5, sequence),\n",
    "        check_next_to(1, 7, sequence),\n",
    "        check_next_to(1, 9, sequence),\n",
    "        check_next_to(2, 4, sequence),\n",
    "        check_next_to(2, 6, sequence),\n",
    "        check_next_to(2, 8, sequence),\n",
    "        check_next_to(3, 5, sequence),\n",
    "        check_next_to(3, 7, sequence),\n",
    "        check_next_to(3, 9, sequence),\n",
    "        check_next_to(4, 6, sequence),\n",
    "        check_next_to(4, 8, sequence),\n",
    "        check_next_to(5, 7, sequence),\n",
    "        check_next_to(5, 9, sequence),\n",
    "        check_next_to(6, 8, sequence),\n",
    "        check_next_to(7, 9, sequence),\n",
    "    ]\n",
    "    \n",
    "    if True in checks:\n",
    "        return False\n",
    "\n",
    "    return True\n"
   ]
  },
  {
   "cell_type": "markdown",
   "id": "0f3fc211",
   "metadata": {
    "heading_collapsed": true,
    "hidden": true
   },
   "source": [
    "##### 4x4"
   ]
  },
  {
   "cell_type": "code",
   "execution_count": 8,
   "id": "b81f80a9",
   "metadata": {
    "ExecuteTime": {
     "end_time": "2024-03-18T09:04:23.246974Z",
     "start_time": "2024-03-18T09:04:23.238839Z"
    },
    "hidden": true
   },
   "outputs": [],
   "source": [
    "def rule_checker_16(sequence):\n",
    "    \n",
    "    '''checks sequence is possible for the 4x4 case'''\n",
    "    \n",
    "    checks = [\n",
    "        check_next_to(1, 3, sequence),\n",
    "        check_next_to(1, 4, sequence),\n",
    "        check_next_to(1, 6, sequence),\n",
    "        check_next_to(1, 7, sequence),\n",
    "        check_next_to(1, 8, sequence),\n",
    "        check_next_to(1, 9, sequence),\n",
    "        check_next_to(1, 10, sequence),\n",
    "        check_next_to(1, 11, sequence),\n",
    "        check_next_to(1, 12, sequence),\n",
    "        check_next_to(1, 13, sequence),\n",
    "        check_next_to(1, 14, sequence),\n",
    "        check_next_to(1, 15, sequence),\n",
    "        check_next_to(1, 16, sequence),\n",
    "        check_next_to(2, 4, sequence),\n",
    "        check_next_to(2, 5, sequence),\n",
    "        check_next_to(2, 7, sequence),\n",
    "        check_next_to(2, 8, sequence),\n",
    "        check_next_to(2, 9, sequence),\n",
    "        check_next_to(2, 10, sequence),\n",
    "        check_next_to(2, 11, sequence),\n",
    "        check_next_to(2, 12, sequence),\n",
    "        check_next_to(2, 13, sequence),\n",
    "        check_next_to(2, 14, sequence),\n",
    "        check_next_to(2, 15, sequence),\n",
    "        check_next_to(2, 16, sequence),\n",
    "        check_next_to(3, 5, sequence),\n",
    "        check_next_to(3, 6, sequence),\n",
    "        check_next_to(3, 8, sequence),\n",
    "        check_next_to(3, 9, sequence),\n",
    "        check_next_to(3, 10, sequence),\n",
    "        check_next_to(3, 11, sequence),\n",
    "        check_next_to(3, 12, sequence),\n",
    "        check_next_to(3, 13, sequence),\n",
    "        check_next_to(3, 14, sequence),\n",
    "        check_next_to(3, 15, sequence),\n",
    "        check_next_to(3, 16, sequence),\n",
    "        check_next_to(4, 5, sequence),\n",
    "        check_next_to(4, 6, sequence),\n",
    "        check_next_to(4, 7, sequence),\n",
    "        check_next_to(4, 9, sequence),\n",
    "        check_next_to(4, 10, sequence),\n",
    "        check_next_to(4, 11, sequence),\n",
    "        check_next_to(4, 12, sequence),\n",
    "        check_next_to(4, 13, sequence),\n",
    "        check_next_to(4, 14, sequence),\n",
    "        check_next_to(4, 15, sequence),\n",
    "        check_next_to(4, 16, sequence),\n",
    "        check_next_to(5, 7, sequence),\n",
    "        check_next_to(5, 8, sequence),\n",
    "        check_next_to(5, 10, sequence),\n",
    "        check_next_to(5, 11, sequence),\n",
    "        check_next_to(5, 12, sequence),\n",
    "        check_next_to(5, 13, sequence),\n",
    "        check_next_to(5, 14, sequence),\n",
    "        check_next_to(5, 15, sequence),\n",
    "        check_next_to(5, 16, sequence),\n",
    "        check_next_to(6, 8, sequence),\n",
    "        check_next_to(6, 9, sequence),\n",
    "        check_next_to(6, 11, sequence),\n",
    "        check_next_to(6, 12, sequence),\n",
    "        check_next_to(6, 13, sequence),\n",
    "        check_next_to(6, 14, sequence),\n",
    "        check_next_to(6, 15, sequence),\n",
    "        check_next_to(6, 16, sequence),\n",
    "        check_next_to(7, 9, sequence),\n",
    "        check_next_to(7, 10, sequence),\n",
    "        check_next_to(7, 12, sequence),\n",
    "        check_next_to(7, 13, sequence),\n",
    "        check_next_to(7, 14, sequence),\n",
    "        check_next_to(7, 15, sequence),\n",
    "        check_next_to(7, 16, sequence),\n",
    "        check_next_to(8, 9, sequence),\n",
    "        check_next_to(8, 10, sequence),\n",
    "        check_next_to(8, 11, sequence),\n",
    "        check_next_to(8, 13, sequence),\n",
    "        check_next_to(8, 14, sequence),\n",
    "        check_next_to(8, 15, sequence),\n",
    "        check_next_to(8, 16, sequence),\n",
    "        check_next_to(9, 11, sequence),\n",
    "        check_next_to(9, 12, sequence),\n",
    "        check_next_to(9, 14, sequence),\n",
    "        check_next_to(9, 15, sequence),\n",
    "        check_next_to(9, 16, sequence),\n",
    "        check_next_to(10, 12, sequence),\n",
    "        check_next_to(10, 13, sequence),\n",
    "        check_next_to(10, 15, sequence),\n",
    "        check_next_to(10, 16, sequence),\n",
    "        check_next_to(11, 13, sequence),\n",
    "        check_next_to(11, 14, sequence),\n",
    "        check_next_to(11, 16, sequence),\n",
    "        check_next_to(12, 13, sequence),\n",
    "        check_next_to(12, 14, sequence),\n",
    "        check_next_to(12, 15, sequence),\n",
    "        check_next_to(13, 15, sequence),\n",
    "        check_next_to(13, 16, sequence),\n",
    "        check_next_to(14, 16, sequence)\n",
    "    ] \n",
    "    \n",
    "    if True in checks:\n",
    "        return False\n",
    "\n",
    "    return True\n"
   ]
  },
  {
   "cell_type": "markdown",
   "id": "460a82dc",
   "metadata": {},
   "source": [
    "### Main"
   ]
  },
  {
   "cell_type": "markdown",
   "id": "471d3172",
   "metadata": {},
   "source": [
    "First let's verify the 2x2 case."
   ]
  },
  {
   "cell_type": "code",
   "execution_count": 9,
   "id": "7ff8e4c6",
   "metadata": {
    "ExecuteTime": {
     "end_time": "2024-03-18T09:04:23.250817Z",
     "start_time": "2024-03-18T09:04:23.248058Z"
    }
   },
   "outputs": [
    {
     "name": "stdout",
     "output_type": "stream",
     "text": [
      "Total possible sequences in a 2x2 grid: 24\n"
     ]
    }
   ],
   "source": [
    "total_4 = 0\n",
    "\n",
    "for k in range(2,5):\n",
    "    for perm in itertools.permutations([1,2,3,4], k):\n",
    "        if rule_checker_4(perm):\n",
    "                total_4 +=1\n",
    "\n",
    "print(f'Total possible sequences in a 2x2 grid: {total_4}')\n"
   ]
  },
  {
   "cell_type": "markdown",
   "id": "47539996",
   "metadata": {},
   "source": [
    "Now let's test for the 3x3 case and note down the valid sequences to check later."
   ]
  },
  {
   "cell_type": "code",
   "execution_count": 10,
   "id": "20fe127e",
   "metadata": {
    "ExecuteTime": {
     "end_time": "2024-03-18T09:04:28.731977Z",
     "start_time": "2024-03-18T09:04:23.251931Z"
    }
   },
   "outputs": [
    {
     "name": "stdout",
     "output_type": "stream",
     "text": [
      "Total possible sequences in a 3x3 grid: 644\n"
     ]
    },
    {
     "data": {
      "text/html": [
       "<div>\n",
       "<style scoped>\n",
       "    .dataframe tbody tr th:only-of-type {\n",
       "        vertical-align: middle;\n",
       "    }\n",
       "\n",
       "    .dataframe tbody tr th {\n",
       "        vertical-align: top;\n",
       "    }\n",
       "\n",
       "    .dataframe thead th {\n",
       "        text-align: right;\n",
       "    }\n",
       "</style>\n",
       "<table border=\"1\" class=\"dataframe\">\n",
       "  <thead>\n",
       "    <tr style=\"text-align: right;\">\n",
       "      <th></th>\n",
       "      <th>k</th>\n",
       "      <th>N_k</th>\n",
       "    </tr>\n",
       "  </thead>\n",
       "  <tbody>\n",
       "    <tr>\n",
       "      <th>0</th>\n",
       "      <td>2</td>\n",
       "      <td>24</td>\n",
       "    </tr>\n",
       "    <tr>\n",
       "      <th>1</th>\n",
       "      <td>3</td>\n",
       "      <td>44</td>\n",
       "    </tr>\n",
       "    <tr>\n",
       "      <th>2</th>\n",
       "      <td>4</td>\n",
       "      <td>80</td>\n",
       "    </tr>\n",
       "    <tr>\n",
       "      <th>3</th>\n",
       "      <td>5</td>\n",
       "      <td>104</td>\n",
       "    </tr>\n",
       "    <tr>\n",
       "      <th>4</th>\n",
       "      <td>6</td>\n",
       "      <td>128</td>\n",
       "    </tr>\n",
       "    <tr>\n",
       "      <th>5</th>\n",
       "      <td>7</td>\n",
       "      <td>112</td>\n",
       "    </tr>\n",
       "    <tr>\n",
       "      <th>6</th>\n",
       "      <td>8</td>\n",
       "      <td>112</td>\n",
       "    </tr>\n",
       "    <tr>\n",
       "      <th>7</th>\n",
       "      <td>9</td>\n",
       "      <td>40</td>\n",
       "    </tr>\n",
       "  </tbody>\n",
       "</table>\n",
       "</div>"
      ],
      "text/plain": [
       "   k  N_k\n",
       "0  2   24\n",
       "1  3   44\n",
       "2  4   80\n",
       "3  5  104\n",
       "4  6  128\n",
       "5  7  112\n",
       "6  8  112\n",
       "7  9   40"
      ]
     },
     "metadata": {},
     "output_type": "display_data"
    }
   ],
   "source": [
    "total_9 = 0\n",
    "valid_sequences = []\n",
    "Nk_values = []\n",
    "\n",
    "for k in range(2,10):\n",
    "    N_k = 0\n",
    "    for perm in itertools.permutations([i for i in range(1, 10)], k):\n",
    "        if rule_checker_9(perm):\n",
    "            valid_sequences.append(perm)\n",
    "            N_k +=1\n",
    "    total_9 += N_k        \n",
    "    Nk_values.append(N_k)   \n",
    "    \n",
    "df = pd.DataFrame({\n",
    "    'k': [k for k in range(2,10)],\n",
    "    'N_k': Nk_values\n",
    "})\n",
    "\n",
    "print(f'Total possible sequences in a 3x3 grid: {total_9}')\n",
    "display(df)\n"
   ]
  },
  {
   "cell_type": "markdown",
   "id": "d7bddbe8",
   "metadata": {},
   "source": [
    "Now let's check some random sequences from the viable list."
   ]
  },
  {
   "cell_type": "code",
   "execution_count": 11,
   "id": "342c0a0d",
   "metadata": {
    "ExecuteTime": {
     "end_time": "2024-03-18T09:04:28.735283Z",
     "start_time": "2024-03-18T09:04:28.733077Z"
    }
   },
   "outputs": [
    {
     "name": "stdout",
     "output_type": "stream",
     "text": [
      "(4, 1, 2, 3, 6, 5, 8, 7)\n",
      "(2, 3, 6, 5, 8, 7, 4, 1)\n",
      "(2, 1, 4, 7, 8, 9, 6)\n",
      "(5, 2, 1, 4, 7, 8, 9, 6, 3)\n",
      "(9, 8, 5, 2, 3, 6)\n"
     ]
    }
   ],
   "source": [
    "indices_to_check = [random.randint(0, total_9) for _ in range(5)]\n",
    "for index in indices_to_check:\n",
    "    print(valid_sequences[index])\n",
    "    "
   ]
  },
  {
   "cell_type": "markdown",
   "id": "52f492f7",
   "metadata": {},
   "source": [
    "### Extension"
   ]
  },
  {
   "cell_type": "markdown",
   "id": "e61bcfb6",
   "metadata": {},
   "source": [
    "Attempting to run the 4x4 case..."
   ]
  },
  {
   "cell_type": "raw",
   "id": "2016f7c7",
   "metadata": {
    "ExecuteTime": {
     "end_time": "2024-03-18T08:30:22.030662Z",
     "start_time": "2024-03-18T05:32:53.183824Z"
    }
   },
   "source": [
    "total_16 = 0\n",
    "valid_sequences_16 = []\n",
    "\n",
    "for k in tqdm(range(2,17)):\n",
    "    for perm in itertools.permutations(range(1, 17), k):\n",
    "        if rule_checker_16(perm):\n",
    "            valid_sequences_16.append(perm)\n",
    "            total_16 +=1\n",
    "\n",
    "print(f'Total possible sequences in a 4x4 grid: {total_16}')\n"
   ]
  },
  {
   "cell_type": "markdown",
   "id": "3a14b4ae",
   "metadata": {},
   "source": [
    "...kills the kernel :/ "
   ]
  },
  {
   "cell_type": "markdown",
   "id": "dab988d8",
   "metadata": {},
   "source": [
    "Let's consider the case where diagonals are allowed."
   ]
  },
  {
   "cell_type": "code",
   "execution_count": 12,
   "id": "ca8acc5a",
   "metadata": {
    "ExecuteTime": {
     "end_time": "2024-03-18T09:04:32.426029Z",
     "start_time": "2024-03-18T09:04:28.736148Z"
    }
   },
   "outputs": [
    {
     "name": "stdout",
     "output_type": "stream",
     "text": [
      "Total possible sequences in a 3x3 grid with diagonal movements allowed: 10296\n"
     ]
    },
    {
     "data": {
      "text/html": [
       "<div>\n",
       "<style scoped>\n",
       "    .dataframe tbody tr th:only-of-type {\n",
       "        vertical-align: middle;\n",
       "    }\n",
       "\n",
       "    .dataframe tbody tr th {\n",
       "        vertical-align: top;\n",
       "    }\n",
       "\n",
       "    .dataframe thead th {\n",
       "        text-align: right;\n",
       "    }\n",
       "</style>\n",
       "<table border=\"1\" class=\"dataframe\">\n",
       "  <thead>\n",
       "    <tr style=\"text-align: right;\">\n",
       "      <th></th>\n",
       "      <th>k</th>\n",
       "      <th>N_k</th>\n",
       "    </tr>\n",
       "  </thead>\n",
       "  <tbody>\n",
       "    <tr>\n",
       "      <th>0</th>\n",
       "      <td>2</td>\n",
       "      <td>40</td>\n",
       "    </tr>\n",
       "    <tr>\n",
       "      <th>1</th>\n",
       "      <td>3</td>\n",
       "      <td>160</td>\n",
       "    </tr>\n",
       "    <tr>\n",
       "      <th>2</th>\n",
       "      <td>4</td>\n",
       "      <td>496</td>\n",
       "    </tr>\n",
       "    <tr>\n",
       "      <th>3</th>\n",
       "      <td>5</td>\n",
       "      <td>1208</td>\n",
       "    </tr>\n",
       "    <tr>\n",
       "      <th>4</th>\n",
       "      <td>6</td>\n",
       "      <td>2240</td>\n",
       "    </tr>\n",
       "    <tr>\n",
       "      <th>5</th>\n",
       "      <td>7</td>\n",
       "      <td>2984</td>\n",
       "    </tr>\n",
       "    <tr>\n",
       "      <th>6</th>\n",
       "      <td>8</td>\n",
       "      <td>2384</td>\n",
       "    </tr>\n",
       "    <tr>\n",
       "      <th>7</th>\n",
       "      <td>9</td>\n",
       "      <td>784</td>\n",
       "    </tr>\n",
       "  </tbody>\n",
       "</table>\n",
       "</div>"
      ],
      "text/plain": [
       "   k   N_k\n",
       "0  2    40\n",
       "1  3   160\n",
       "2  4   496\n",
       "3  5  1208\n",
       "4  6  2240\n",
       "5  7  2984\n",
       "6  8  2384\n",
       "7  9   784"
      ]
     },
     "metadata": {},
     "output_type": "display_data"
    }
   ],
   "source": [
    "total_diag = 0\n",
    "diag_sequences = []\n",
    "Nk_values_diag = []\n",
    "\n",
    "for k in range(2,10):\n",
    "    N_k = 0\n",
    "    for perm in itertools.permutations([i for i in range(1, 10)], k):\n",
    "        if rule_checker_9_diag(perm):\n",
    "            diag_sequences.append(perm)\n",
    "            N_k +=1\n",
    "    total_diag += N_k        \n",
    "    Nk_values_diag.append(N_k)   \n",
    "    \n",
    "df_diag = pd.DataFrame({\n",
    "    'k': [k for k in range(2,10)],\n",
    "    'N_k': Nk_values_diag\n",
    "})\n",
    "\n",
    "print(f'Total possible sequences in a 3x3 grid with diagonal movements allowed: {total_diag}')\n",
    "display(df_diag)\n"
   ]
  },
  {
   "cell_type": "markdown",
   "id": "4feada09",
   "metadata": {},
   "source": [
    "For the case we can 'leap' i.e. move 2 steps horizontally or vertically too:"
   ]
  },
  {
   "cell_type": "code",
   "execution_count": 13,
   "id": "80cb0fad",
   "metadata": {
    "ExecuteTime": {
     "end_time": "2024-03-18T09:04:36.566276Z",
     "start_time": "2024-03-18T09:04:32.426943Z"
    },
    "scrolled": false
   },
   "outputs": [
    {
     "name": "stdout",
     "output_type": "stream",
     "text": [
      "Total possible sequences in a 3x3 grid with leaping movements allowed: 9072\n"
     ]
    },
    {
     "data": {
      "text/html": [
       "<div>\n",
       "<style scoped>\n",
       "    .dataframe tbody tr th:only-of-type {\n",
       "        vertical-align: middle;\n",
       "    }\n",
       "\n",
       "    .dataframe tbody tr th {\n",
       "        vertical-align: top;\n",
       "    }\n",
       "\n",
       "    .dataframe thead th {\n",
       "        text-align: right;\n",
       "    }\n",
       "</style>\n",
       "<table border=\"1\" class=\"dataframe\">\n",
       "  <thead>\n",
       "    <tr style=\"text-align: right;\">\n",
       "      <th></th>\n",
       "      <th>k</th>\n",
       "      <th>N_k</th>\n",
       "    </tr>\n",
       "  </thead>\n",
       "  <tbody>\n",
       "    <tr>\n",
       "      <th>0</th>\n",
       "      <td>2</td>\n",
       "      <td>36</td>\n",
       "    </tr>\n",
       "    <tr>\n",
       "      <th>1</th>\n",
       "      <td>3</td>\n",
       "      <td>108</td>\n",
       "    </tr>\n",
       "    <tr>\n",
       "      <th>2</th>\n",
       "      <td>4</td>\n",
       "      <td>288</td>\n",
       "    </tr>\n",
       "    <tr>\n",
       "      <th>3</th>\n",
       "      <td>5</td>\n",
       "      <td>720</td>\n",
       "    </tr>\n",
       "    <tr>\n",
       "      <th>4</th>\n",
       "      <td>6</td>\n",
       "      <td>1440</td>\n",
       "    </tr>\n",
       "    <tr>\n",
       "      <th>5</th>\n",
       "      <td>7</td>\n",
       "      <td>2304</td>\n",
       "    </tr>\n",
       "    <tr>\n",
       "      <th>6</th>\n",
       "      <td>8</td>\n",
       "      <td>2664</td>\n",
       "    </tr>\n",
       "    <tr>\n",
       "      <th>7</th>\n",
       "      <td>9</td>\n",
       "      <td>1512</td>\n",
       "    </tr>\n",
       "  </tbody>\n",
       "</table>\n",
       "</div>"
      ],
      "text/plain": [
       "   k   N_k\n",
       "0  2    36\n",
       "1  3   108\n",
       "2  4   288\n",
       "3  5   720\n",
       "4  6  1440\n",
       "5  7  2304\n",
       "6  8  2664\n",
       "7  9  1512"
      ]
     },
     "metadata": {},
     "output_type": "display_data"
    }
   ],
   "source": [
    "total_leap = 0\n",
    "leap_sequences = []\n",
    "Nk_values_leap = []\n",
    "\n",
    "for k in range(2,10):\n",
    "    N_k = 0\n",
    "    for perm in itertools.permutations([i for i in range(1, 10)], k):\n",
    "        if rule_checker_9_leap(perm):\n",
    "            leap_sequences.append(perm)\n",
    "            N_k +=1\n",
    "    total_leap += N_k        \n",
    "    Nk_values_leap.append(N_k)   \n",
    "    \n",
    "df_leap = pd.DataFrame({\n",
    "    'k': [k for k in range(2,10)],\n",
    "    'N_k': Nk_values_leap\n",
    "})\n",
    "\n",
    "print(f'Total possible sequences in a 3x3 grid with leaping movements allowed: {total_leap}')\n",
    "display(df_leap)\n"
   ]
  },
  {
   "cell_type": "markdown",
   "id": "2c6c7bb0",
   "metadata": {},
   "source": [
    "And for the case 'knight' moves (from chess) are allowed e.g. $a_{11}$ to $a_{23}$:"
   ]
  },
  {
   "cell_type": "code",
   "execution_count": 14,
   "id": "ab58a19c",
   "metadata": {
    "ExecuteTime": {
     "end_time": "2024-03-18T09:04:40.290195Z",
     "start_time": "2024-03-18T09:04:36.567265Z"
    }
   },
   "outputs": [
    {
     "name": "stdout",
     "output_type": "stream",
     "text": [
      "Total possible sequences in a 3x3 grid with knight movements allowed: 17700\n"
     ]
    },
    {
     "data": {
      "text/html": [
       "<div>\n",
       "<style scoped>\n",
       "    .dataframe tbody tr th:only-of-type {\n",
       "        vertical-align: middle;\n",
       "    }\n",
       "\n",
       "    .dataframe tbody tr th {\n",
       "        vertical-align: top;\n",
       "    }\n",
       "\n",
       "    .dataframe thead th {\n",
       "        text-align: right;\n",
       "    }\n",
       "</style>\n",
       "<table border=\"1\" class=\"dataframe\">\n",
       "  <thead>\n",
       "    <tr style=\"text-align: right;\">\n",
       "      <th></th>\n",
       "      <th>k</th>\n",
       "      <th>N_k</th>\n",
       "    </tr>\n",
       "  </thead>\n",
       "  <tbody>\n",
       "    <tr>\n",
       "      <th>0</th>\n",
       "      <td>2</td>\n",
       "      <td>40</td>\n",
       "    </tr>\n",
       "    <tr>\n",
       "      <th>1</th>\n",
       "      <td>3</td>\n",
       "      <td>140</td>\n",
       "    </tr>\n",
       "    <tr>\n",
       "      <th>2</th>\n",
       "      <td>4</td>\n",
       "      <td>480</td>\n",
       "    </tr>\n",
       "    <tr>\n",
       "      <th>3</th>\n",
       "      <td>5</td>\n",
       "      <td>1200</td>\n",
       "    </tr>\n",
       "    <tr>\n",
       "      <th>4</th>\n",
       "      <td>6</td>\n",
       "      <td>2880</td>\n",
       "    </tr>\n",
       "    <tr>\n",
       "      <th>5</th>\n",
       "      <td>7</td>\n",
       "      <td>4320</td>\n",
       "    </tr>\n",
       "    <tr>\n",
       "      <th>6</th>\n",
       "      <td>8</td>\n",
       "      <td>5760</td>\n",
       "    </tr>\n",
       "    <tr>\n",
       "      <th>7</th>\n",
       "      <td>9</td>\n",
       "      <td>2880</td>\n",
       "    </tr>\n",
       "  </tbody>\n",
       "</table>\n",
       "</div>"
      ],
      "text/plain": [
       "   k   N_k\n",
       "0  2    40\n",
       "1  3   140\n",
       "2  4   480\n",
       "3  5  1200\n",
       "4  6  2880\n",
       "5  7  4320\n",
       "6  8  5760\n",
       "7  9  2880"
      ]
     },
     "metadata": {},
     "output_type": "display_data"
    }
   ],
   "source": [
    "total_knight = 0\n",
    "knight_sequences = []\n",
    "Nk_values_knight = []\n",
    "\n",
    "for k in range(2,10):\n",
    "    N_k = 0\n",
    "    for perm in itertools.permutations([i for i in range(1, 10)], k):\n",
    "        if rule_checker_9_knight(perm):\n",
    "            knight_sequences.append(perm)\n",
    "            N_k +=1\n",
    "    total_knight += N_k        \n",
    "    Nk_values_knight.append(N_k)   \n",
    "    \n",
    "df_knight = pd.DataFrame({\n",
    "    'k': [k for k in range(2,10)],\n",
    "    'N_k': Nk_values_knight\n",
    "})\n",
    "\n",
    "print(f'Total possible sequences in a 3x3 grid with knight movements allowed: {total_knight}')\n",
    "display(df_knight)\n"
   ]
  },
  {
   "cell_type": "markdown",
   "id": "f8daaecb",
   "metadata": {},
   "source": [
    "Compare this to the actual total if any movement is allowed:"
   ]
  },
  {
   "cell_type": "code",
   "execution_count": 15,
   "id": "d5eae56f",
   "metadata": {
    "ExecuteTime": {
     "end_time": "2024-03-18T09:04:40.443526Z",
     "start_time": "2024-03-18T09:04:40.291100Z"
    }
   },
   "outputs": [
    {
     "name": "stdout",
     "output_type": "stream",
     "text": [
      "986400\n"
     ]
    }
   ],
   "source": [
    "total = 0\n",
    "seq = []\n",
    "\n",
    "for k in range(2,10):\n",
    "    for perm in itertools.permutations(range(1, 10), k):\n",
    "        total += 1\n",
    "        seq.append(perm)\n",
    "        \n",
    "print(total)\n"
   ]
  },
  {
   "cell_type": "markdown",
   "id": "d1ead5da",
   "metadata": {},
   "source": [
    "Let's display these in a DataFrame."
   ]
  },
  {
   "cell_type": "code",
   "execution_count": 16,
   "id": "3807a273",
   "metadata": {
    "ExecuteTime": {
     "end_time": "2024-03-18T09:04:40.448048Z",
     "start_time": "2024-03-18T09:04:40.444423Z"
    }
   },
   "outputs": [
    {
     "data": {
      "text/html": [
       "<div>\n",
       "<style scoped>\n",
       "    .dataframe tbody tr th:only-of-type {\n",
       "        vertical-align: middle;\n",
       "    }\n",
       "\n",
       "    .dataframe tbody tr th {\n",
       "        vertical-align: top;\n",
       "    }\n",
       "\n",
       "    .dataframe thead th {\n",
       "        text-align: right;\n",
       "    }\n",
       "</style>\n",
       "<table border=\"1\" class=\"dataframe\">\n",
       "  <thead>\n",
       "    <tr style=\"text-align: right;\">\n",
       "      <th></th>\n",
       "      <th>Extra movement</th>\n",
       "      <th>Total patterns</th>\n",
       "    </tr>\n",
       "  </thead>\n",
       "  <tbody>\n",
       "    <tr>\n",
       "      <th>0</th>\n",
       "      <td>None</td>\n",
       "      <td>644</td>\n",
       "    </tr>\n",
       "    <tr>\n",
       "      <th>1</th>\n",
       "      <td>Diagonals</td>\n",
       "      <td>10296</td>\n",
       "    </tr>\n",
       "    <tr>\n",
       "      <th>2</th>\n",
       "      <td>Leaps</td>\n",
       "      <td>9072</td>\n",
       "    </tr>\n",
       "    <tr>\n",
       "      <th>3</th>\n",
       "      <td>Knight</td>\n",
       "      <td>17700</td>\n",
       "    </tr>\n",
       "    <tr>\n",
       "      <th>4</th>\n",
       "      <td>Anything</td>\n",
       "      <td>986400</td>\n",
       "    </tr>\n",
       "  </tbody>\n",
       "</table>\n",
       "</div>"
      ],
      "text/plain": [
       "  Extra movement  Total patterns\n",
       "0           None             644\n",
       "1      Diagonals           10296\n",
       "2          Leaps            9072\n",
       "3         Knight           17700\n",
       "4       Anything          986400"
      ]
     },
     "metadata": {},
     "output_type": "display_data"
    }
   ],
   "source": [
    "df_variants = pd.DataFrame({\n",
    "    'Extra movement': ['None', 'Diagonals', 'Leaps', 'Knight', 'Anything'],\n",
    "    'Total patterns': [total_9, total_diag, total_leap, total_knight, total]\n",
    "})\n",
    "\n",
    "display(df_variants)\n"
   ]
  },
  {
   "cell_type": "code",
   "execution_count": null,
   "id": "dcb372bb",
   "metadata": {},
   "outputs": [],
   "source": []
  }
 ],
 "metadata": {
  "hide_input": false,
  "kernelspec": {
   "display_name": "Python 3 (ipykernel)",
   "language": "python",
   "name": "python3"
  },
  "language_info": {
   "codemirror_mode": {
    "name": "ipython",
    "version": 3
   },
   "file_extension": ".py",
   "mimetype": "text/x-python",
   "name": "python",
   "nbconvert_exporter": "python",
   "pygments_lexer": "ipython3",
   "version": "3.11.5"
  }
 },
 "nbformat": 4,
 "nbformat_minor": 5
}
