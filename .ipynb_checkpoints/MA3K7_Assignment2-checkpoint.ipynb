{
 "cells": [
  {
   "cell_type": "markdown",
   "id": "1a1822ec",
   "metadata": {},
   "source": [
    "### Imports"
   ]
  },
  {
   "cell_type": "code",
   "execution_count": 1,
   "id": "9cd7a244",
   "metadata": {
    "ExecuteTime": {
     "end_time": "2024-02-07T03:13:26.576766Z",
     "start_time": "2024-02-07T03:13:25.789203Z"
    }
   },
   "outputs": [],
   "source": [
    "import numpy as np\n",
    "import matplotlib.pyplot as plt\n",
    "import itertools\n",
    "import pandas as pd\n"
   ]
  },
  {
   "cell_type": "markdown",
   "id": "f8162919",
   "metadata": {},
   "source": [
    "### Matrices"
   ]
  },
  {
   "cell_type": "code",
   "execution_count": 2,
   "id": "eda886d7",
   "metadata": {
    "ExecuteTime": {
     "end_time": "2024-02-07T03:13:26.580775Z",
     "start_time": "2024-02-07T03:13:26.577837Z"
    }
   },
   "outputs": [],
   "source": [
    "def array(n):\n",
    "    combinations = []\n",
    "    \n",
    "    if n == 1:\n",
    "        return [0]\n",
    "    \n",
    "    if n%2 == 1:\n",
    "        zeros = int((n**2+1)/2)\n",
    "        ones = int((n**2-1)/2)\n",
    "    else:\n",
    "        zeros = int(n**2/2)\n",
    "        ones = int(n**2/2)\n",
    "    \n",
    "    entries = [i for i in range(n**2)]\n",
    "    \n",
    "    for comb in itertools.combinations(entries, zeros):\n",
    "        sequences = n**2 * [0]\n",
    "        for i in comb:\n",
    "            sequences[i] = 1\n",
    "        combinations.append(sequences)\n",
    "    return(combinations)\n"
   ]
  },
  {
   "cell_type": "code",
   "execution_count": 3,
   "id": "0273c250",
   "metadata": {
    "ExecuteTime": {
     "end_time": "2024-02-07T03:13:26.584256Z",
     "start_time": "2024-02-07T03:13:26.582389Z"
    }
   },
   "outputs": [],
   "source": [
    "def matrix(n):\n",
    "    mat_list = []\n",
    "    combinations = array(n)\n",
    "    for combination in combinations:\n",
    "        mat_list.append(np.array(combination).reshape(n,n))\n",
    "    return mat_list\n"
   ]
  },
  {
   "cell_type": "code",
   "execution_count": 8,
   "id": "42033961",
   "metadata": {
    "ExecuteTime": {
     "end_time": "2024-02-07T03:19:13.325960Z",
     "start_time": "2024-02-07T03:19:13.320457Z"
    }
   },
   "outputs": [
    {
     "name": "stdout",
     "output_type": "stream",
     "text": [
      "Possible 2x2 matrices:\n",
      "\n",
      "1 1\n",
      "0 0\n",
      "\n",
      "1 0\n",
      "1 0\n",
      "\n",
      "1 0\n",
      "0 1\n",
      "\n",
      "0 1\n",
      "1 0\n",
      "\n",
      "0 1\n",
      "0 1\n",
      "\n",
      "0 0\n",
      "1 1\n",
      "\n"
     ]
    }
   ],
   "source": [
    "size = 2\n",
    "print(f'Possible {size}x{size} matrices:')\n",
    "print()\n",
    "\n",
    "for m in matrix(size):\n",
    "    for row in m:\n",
    "        print(' '.join(map(str, row)))\n",
    "    print()\n"
   ]
  },
  {
   "cell_type": "markdown",
   "id": "71feca3d",
   "metadata": {},
   "source": [
    "### Zeros"
   ]
  },
  {
   "cell_type": "code",
   "execution_count": 5,
   "id": "0147149f",
   "metadata": {
    "ExecuteTime": {
     "end_time": "2024-02-07T03:13:26.591805Z",
     "start_time": "2024-02-07T03:13:26.589503Z"
    },
    "scrolled": false
   },
   "outputs": [],
   "source": [
    "def zeros_calc(n):\n",
    "    zeros = 0\n",
    "\n",
    "    for i in matrix(n):\n",
    "        det = np.linalg.det(i)\n",
    "        if det == 0:\n",
    "            zeros+=1\n",
    "\n",
    "    return zeros, len(matrix(n))-zeros\n"
   ]
  },
  {
   "cell_type": "code",
   "execution_count": 6,
   "id": "3c2a2a32",
   "metadata": {
    "ExecuteTime": {
     "end_time": "2024-02-07T03:14:11.364733Z",
     "start_time": "2024-02-07T03:13:26.592761Z"
    }
   },
   "outputs": [],
   "source": [
    "zeros = []\n",
    "non_zeros = []\n",
    "win_prob = []\n",
    "\n",
    "for i in range(1,6):\n",
    "    a,b = zeros_calc(i)\n",
    "    zeros.append(a)\n",
    "    non_zeros.append(b)\n",
    "    win_prob.append(a/(a+b))\n",
    "    "
   ]
  },
  {
   "cell_type": "code",
   "execution_count": 7,
   "id": "2b0abf72",
   "metadata": {
    "ExecuteTime": {
     "end_time": "2024-02-07T03:14:11.373964Z",
     "start_time": "2024-02-07T03:14:11.365680Z"
    }
   },
   "outputs": [
    {
     "data": {
      "text/html": [
       "<div>\n",
       "<style scoped>\n",
       "    .dataframe tbody tr th:only-of-type {\n",
       "        vertical-align: middle;\n",
       "    }\n",
       "\n",
       "    .dataframe tbody tr th {\n",
       "        vertical-align: top;\n",
       "    }\n",
       "\n",
       "    .dataframe thead th {\n",
       "        text-align: right;\n",
       "    }\n",
       "</style>\n",
       "<table border=\"1\" class=\"dataframe\">\n",
       "  <thead>\n",
       "    <tr style=\"text-align: right;\">\n",
       "      <th></th>\n",
       "      <th>n</th>\n",
       "      <th>zero</th>\n",
       "      <th>non-zero</th>\n",
       "      <th>P(win)</th>\n",
       "    </tr>\n",
       "  </thead>\n",
       "  <tbody>\n",
       "    <tr>\n",
       "      <th>0</th>\n",
       "      <td>1</td>\n",
       "      <td>1</td>\n",
       "      <td>0</td>\n",
       "      <td>1.000000</td>\n",
       "    </tr>\n",
       "    <tr>\n",
       "      <th>1</th>\n",
       "      <td>2</td>\n",
       "      <td>4</td>\n",
       "      <td>2</td>\n",
       "      <td>0.666667</td>\n",
       "    </tr>\n",
       "    <tr>\n",
       "      <th>2</th>\n",
       "      <td>3</td>\n",
       "      <td>54</td>\n",
       "      <td>72</td>\n",
       "      <td>0.428571</td>\n",
       "    </tr>\n",
       "    <tr>\n",
       "      <th>3</th>\n",
       "      <td>4</td>\n",
       "      <td>7542</td>\n",
       "      <td>5328</td>\n",
       "      <td>0.586014</td>\n",
       "    </tr>\n",
       "    <tr>\n",
       "      <th>4</th>\n",
       "      <td>5</td>\n",
       "      <td>2867956</td>\n",
       "      <td>2332344</td>\n",
       "      <td>0.551498</td>\n",
       "    </tr>\n",
       "  </tbody>\n",
       "</table>\n",
       "</div>"
      ],
      "text/plain": [
       "   n     zero  non-zero    P(win)\n",
       "0  1        1         0  1.000000\n",
       "1  2        4         2  0.666667\n",
       "2  3       54        72  0.428571\n",
       "3  4     7542      5328  0.586014\n",
       "4  5  2867956   2332344  0.551498"
      ]
     },
     "metadata": {},
     "output_type": "display_data"
    }
   ],
   "source": [
    "df = pd.DataFrame({\n",
    "    'n': [i for i in range(1, len(zeros)+1)],\n",
    "    'zero': zeros,\n",
    "    'non-zero': non_zeros,\n",
    "    'P(win)': win_prob\n",
    "})\n",
    "\n",
    "display(df)\n"
   ]
  }
 ],
 "metadata": {
  "hide_input": false,
  "kernelspec": {
   "display_name": "Python 3 (ipykernel)",
   "language": "python",
   "name": "python3"
  },
  "language_info": {
   "codemirror_mode": {
    "name": "ipython",
    "version": 3
   },
   "file_extension": ".py",
   "mimetype": "text/x-python",
   "name": "python",
   "nbconvert_exporter": "python",
   "pygments_lexer": "ipython3",
   "version": "3.11.5"
  }
 },
 "nbformat": 4,
 "nbformat_minor": 5
}
