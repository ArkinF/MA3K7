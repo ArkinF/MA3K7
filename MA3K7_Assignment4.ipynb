{
 "cells": [
  {
   "cell_type": "markdown",
   "id": "d104c618",
   "metadata": {},
   "source": [
    "### Imports"
   ]
  },
  {
   "cell_type": "code",
   "execution_count": 1,
   "id": "afc794f4",
   "metadata": {
    "ExecuteTime": {
     "end_time": "2024-03-05T16:58:36.548682Z",
     "start_time": "2024-03-05T16:58:32.278870Z"
    }
   },
   "outputs": [],
   "source": [
    "import numpy as np\n",
    "import matplotlib.pyplot as plt\n",
    "import pandas as pd\n",
    "from tqdm import tqdm\n"
   ]
  },
  {
   "cell_type": "markdown",
   "id": "3f35b754",
   "metadata": {},
   "source": [
    "### Main"
   ]
  },
  {
   "cell_type": "markdown",
   "id": "4547434d",
   "metadata": {},
   "source": [
    "How many combinations are there?"
   ]
  },
  {
   "cell_type": "code",
   "execution_count": 2,
   "id": "90fdf56a",
   "metadata": {
    "ExecuteTime": {
     "end_time": "2024-03-05T16:58:36.556942Z",
     "start_time": "2024-03-05T16:58:36.550813Z"
    }
   },
   "outputs": [
    {
     "name": "stdout",
     "output_type": "stream",
     "text": [
      "Ways to hit 25: 75025\n"
     ]
    }
   ],
   "source": [
    "perms = [1,1]\n",
    "\n",
    "for i in range(2,26):\n",
    "    perms.append(perms[i-1] + perms[i-2])\n",
    "    \n",
    "df_perms = pd.DataFrame({\n",
    "    'n': [i for i in range(1,27)],\n",
    "    'Permutations': perms\n",
    "})\n",
    "\n",
    "print(f'Ways to hit 25: {perms[24]}')\n"
   ]
  },
  {
   "cell_type": "markdown",
   "id": "70ec885b",
   "metadata": {},
   "source": [
    "Let's work out values for $P(n)$ up to $n=24$."
   ]
  },
  {
   "cell_type": "code",
   "execution_count": 3,
   "id": "62fb020c",
   "metadata": {
    "ExecuteTime": {
     "end_time": "2024-03-05T16:58:57.191889Z",
     "start_time": "2024-03-05T16:58:36.560285Z"
    }
   },
   "outputs": [
    {
     "name": "stderr",
     "output_type": "stream",
     "text": [
      "100%|███████████████████████████████████████████| 24/24 [00:20<00:00,  1.17it/s]\n"
     ]
    },
    {
     "data": {
      "text/html": [
       "<div>\n",
       "<style scoped>\n",
       "    .dataframe tbody tr th:only-of-type {\n",
       "        vertical-align: middle;\n",
       "    }\n",
       "\n",
       "    .dataframe tbody tr th {\n",
       "        vertical-align: top;\n",
       "    }\n",
       "\n",
       "    .dataframe thead th {\n",
       "        text-align: right;\n",
       "    }\n",
       "</style>\n",
       "<table border=\"1\" class=\"dataframe\">\n",
       "  <thead>\n",
       "    <tr style=\"text-align: right;\">\n",
       "      <th></th>\n",
       "      <th>n</th>\n",
       "      <th>P(n)</th>\n",
       "    </tr>\n",
       "  </thead>\n",
       "  <tbody>\n",
       "    <tr>\n",
       "      <th>0</th>\n",
       "      <td>1</td>\n",
       "      <td>1.0000</td>\n",
       "    </tr>\n",
       "    <tr>\n",
       "      <th>1</th>\n",
       "      <td>2</td>\n",
       "      <td>0.4965</td>\n",
       "    </tr>\n",
       "    <tr>\n",
       "      <th>2</th>\n",
       "      <td>3</td>\n",
       "      <td>0.7458</td>\n",
       "    </tr>\n",
       "    <tr>\n",
       "      <th>3</th>\n",
       "      <td>4</td>\n",
       "      <td>0.6225</td>\n",
       "    </tr>\n",
       "    <tr>\n",
       "      <th>4</th>\n",
       "      <td>5</td>\n",
       "      <td>0.6834</td>\n",
       "    </tr>\n",
       "    <tr>\n",
       "      <th>5</th>\n",
       "      <td>6</td>\n",
       "      <td>0.6621</td>\n",
       "    </tr>\n",
       "    <tr>\n",
       "      <th>6</th>\n",
       "      <td>7</td>\n",
       "      <td>0.6696</td>\n",
       "    </tr>\n",
       "    <tr>\n",
       "      <th>7</th>\n",
       "      <td>8</td>\n",
       "      <td>0.6761</td>\n",
       "    </tr>\n",
       "    <tr>\n",
       "      <th>8</th>\n",
       "      <td>9</td>\n",
       "      <td>0.6689</td>\n",
       "    </tr>\n",
       "    <tr>\n",
       "      <th>9</th>\n",
       "      <td>10</td>\n",
       "      <td>0.6658</td>\n",
       "    </tr>\n",
       "    <tr>\n",
       "      <th>10</th>\n",
       "      <td>11</td>\n",
       "      <td>0.6655</td>\n",
       "    </tr>\n",
       "    <tr>\n",
       "      <th>11</th>\n",
       "      <td>12</td>\n",
       "      <td>0.6657</td>\n",
       "    </tr>\n",
       "    <tr>\n",
       "      <th>12</th>\n",
       "      <td>13</td>\n",
       "      <td>0.6668</td>\n",
       "    </tr>\n",
       "    <tr>\n",
       "      <th>13</th>\n",
       "      <td>14</td>\n",
       "      <td>0.6660</td>\n",
       "    </tr>\n",
       "    <tr>\n",
       "      <th>14</th>\n",
       "      <td>15</td>\n",
       "      <td>0.6658</td>\n",
       "    </tr>\n",
       "    <tr>\n",
       "      <th>15</th>\n",
       "      <td>16</td>\n",
       "      <td>0.6596</td>\n",
       "    </tr>\n",
       "    <tr>\n",
       "      <th>16</th>\n",
       "      <td>17</td>\n",
       "      <td>0.6643</td>\n",
       "    </tr>\n",
       "    <tr>\n",
       "      <th>17</th>\n",
       "      <td>18</td>\n",
       "      <td>0.6699</td>\n",
       "    </tr>\n",
       "    <tr>\n",
       "      <th>18</th>\n",
       "      <td>19</td>\n",
       "      <td>0.6659</td>\n",
       "    </tr>\n",
       "    <tr>\n",
       "      <th>19</th>\n",
       "      <td>20</td>\n",
       "      <td>0.6747</td>\n",
       "    </tr>\n",
       "    <tr>\n",
       "      <th>20</th>\n",
       "      <td>21</td>\n",
       "      <td>0.6601</td>\n",
       "    </tr>\n",
       "    <tr>\n",
       "      <th>21</th>\n",
       "      <td>22</td>\n",
       "      <td>0.6661</td>\n",
       "    </tr>\n",
       "    <tr>\n",
       "      <th>22</th>\n",
       "      <td>23</td>\n",
       "      <td>0.6652</td>\n",
       "    </tr>\n",
       "    <tr>\n",
       "      <th>23</th>\n",
       "      <td>24</td>\n",
       "      <td>0.6639</td>\n",
       "    </tr>\n",
       "  </tbody>\n",
       "</table>\n",
       "</div>"
      ],
      "text/plain": [
       "     n    P(n)\n",
       "0    1  1.0000\n",
       "1    2  0.4965\n",
       "2    3  0.7458\n",
       "3    4  0.6225\n",
       "4    5  0.6834\n",
       "5    6  0.6621\n",
       "6    7  0.6696\n",
       "7    8  0.6761\n",
       "8    9  0.6689\n",
       "9   10  0.6658\n",
       "10  11  0.6655\n",
       "11  12  0.6657\n",
       "12  13  0.6668\n",
       "13  14  0.6660\n",
       "14  15  0.6658\n",
       "15  16  0.6596\n",
       "16  17  0.6643\n",
       "17  18  0.6699\n",
       "18  19  0.6659\n",
       "19  20  0.6747\n",
       "20  21  0.6601\n",
       "21  22  0.6661\n",
       "22  23  0.6652\n",
       "23  24  0.6639"
      ]
     },
     "metadata": {},
     "output_type": "display_data"
    }
   ],
   "source": [
    "iterations = 10000\n",
    "p = 0.5\n",
    "n_vals = [i for i in range(1, 25)]\n",
    "prob_vals = []\n",
    "\n",
    "for n in tqdm(n_vals):\n",
    "    ind = 0\n",
    "    for _ in range(iterations):\n",
    "        pos = 1\n",
    "        while pos < n:\n",
    "            pos += np.random.choice([1,2], p=[p,1-p])\n",
    "\n",
    "        if pos == n:\n",
    "            ind += 1\n",
    "    \n",
    "    prob_vals.append(ind/iterations)\n",
    "\n",
    "df = pd.DataFrame({\n",
    "    'n': n_vals,\n",
    "    'P(n)': prob_vals\n",
    "})\n",
    "\n",
    "display(df)\n"
   ]
  },
  {
   "cell_type": "markdown",
   "id": "ccff5002",
   "metadata": {},
   "source": [
    "Now for $n=25$ like the question asks us."
   ]
  },
  {
   "cell_type": "code",
   "execution_count": 4,
   "id": "1231ecbc",
   "metadata": {
    "ExecuteTime": {
     "end_time": "2024-03-05T16:59:19.716434Z",
     "start_time": "2024-03-05T16:58:57.193813Z"
    }
   },
   "outputs": [
    {
     "name": "stderr",
     "output_type": "stream",
     "text": [
      "100%|█████████████████████████████████| 100000/100000 [00:22<00:00, 4441.06it/s]"
     ]
    },
    {
     "name": "stdout",
     "output_type": "stream",
     "text": [
      "P(25) = 0.66542\n",
      "Average flips = 16.22261\n"
     ]
    },
    {
     "name": "stderr",
     "output_type": "stream",
     "text": [
      "\n"
     ]
    }
   ],
   "source": [
    "iterations = 100000\n",
    "p = 0.5\n",
    "ind = 0\n",
    "avg_flips = 0\n",
    "\n",
    "for _ in tqdm(range(iterations)):\n",
    "    pos = 1\n",
    "    flips = 0\n",
    "    while pos < 25:\n",
    "        pos += np.random.choice([1,2], p=[p,1-p])\n",
    "        flips += 1\n",
    "    if pos == 25:\n",
    "        ind += 1\n",
    "    avg_flips += flips\n",
    "    \n",
    "print(f'P(25) = {ind/iterations}')\n",
    "print(f'Average flips = {avg_flips/iterations}')\n"
   ]
  },
  {
   "cell_type": "markdown",
   "id": "7712f0ab",
   "metadata": {},
   "source": [
    "Let's work out values mathematically."
   ]
  },
  {
   "cell_type": "code",
   "execution_count": 5,
   "id": "4dcab724",
   "metadata": {
    "ExecuteTime": {
     "end_time": "2024-03-05T16:59:19.725717Z",
     "start_time": "2024-03-05T16:59:19.718401Z"
    }
   },
   "outputs": [
    {
     "data": {
      "text/html": [
       "<div>\n",
       "<style scoped>\n",
       "    .dataframe tbody tr th:only-of-type {\n",
       "        vertical-align: middle;\n",
       "    }\n",
       "\n",
       "    .dataframe tbody tr th {\n",
       "        vertical-align: top;\n",
       "    }\n",
       "\n",
       "    .dataframe thead th {\n",
       "        text-align: right;\n",
       "    }\n",
       "</style>\n",
       "<table border=\"1\" class=\"dataframe\">\n",
       "  <thead>\n",
       "    <tr style=\"text-align: right;\">\n",
       "      <th></th>\n",
       "      <th>n</th>\n",
       "      <th>P(n)</th>\n",
       "    </tr>\n",
       "  </thead>\n",
       "  <tbody>\n",
       "    <tr>\n",
       "      <th>0</th>\n",
       "      <td>1</td>\n",
       "      <td>1.000000</td>\n",
       "    </tr>\n",
       "    <tr>\n",
       "      <th>1</th>\n",
       "      <td>2</td>\n",
       "      <td>0.500000</td>\n",
       "    </tr>\n",
       "    <tr>\n",
       "      <th>2</th>\n",
       "      <td>3</td>\n",
       "      <td>0.750000</td>\n",
       "    </tr>\n",
       "    <tr>\n",
       "      <th>3</th>\n",
       "      <td>4</td>\n",
       "      <td>0.625000</td>\n",
       "    </tr>\n",
       "    <tr>\n",
       "      <th>4</th>\n",
       "      <td>5</td>\n",
       "      <td>0.687500</td>\n",
       "    </tr>\n",
       "    <tr>\n",
       "      <th>5</th>\n",
       "      <td>6</td>\n",
       "      <td>0.656250</td>\n",
       "    </tr>\n",
       "    <tr>\n",
       "      <th>6</th>\n",
       "      <td>7</td>\n",
       "      <td>0.671875</td>\n",
       "    </tr>\n",
       "    <tr>\n",
       "      <th>7</th>\n",
       "      <td>8</td>\n",
       "      <td>0.664062</td>\n",
       "    </tr>\n",
       "  </tbody>\n",
       "</table>\n",
       "</div>"
      ],
      "text/plain": [
       "   n      P(n)\n",
       "0  1  1.000000\n",
       "1  2  0.500000\n",
       "2  3  0.750000\n",
       "3  4  0.625000\n",
       "4  5  0.687500\n",
       "5  6  0.656250\n",
       "6  7  0.671875\n",
       "7  8  0.664062"
      ]
     },
     "metadata": {},
     "output_type": "display_data"
    }
   ],
   "source": [
    "vals = [1, 1/2]\n",
    "n = 6\n",
    "\n",
    "for i in range(n):\n",
    "    vals.append(0.5*vals[i] + 0.5*vals[i+1])\n",
    "\n",
    "df_probs = pd.DataFrame({\n",
    "    'n': [i for i in range(1,n+3)],\n",
    "    'P(n)': vals\n",
    "})\n",
    "\n",
    "display(df_probs)\n"
   ]
  },
  {
   "cell_type": "code",
   "execution_count": 60,
   "id": "165b7bc0",
   "metadata": {
    "ExecuteTime": {
     "end_time": "2024-03-06T00:07:59.587489Z",
     "start_time": "2024-03-06T00:07:59.584080Z"
    }
   },
   "outputs": [
    {
     "name": "stdout",
     "output_type": "stream",
     "text": [
      "P(25) = 0.6666666865348816\n",
      "Error percentage: 2.9802322443206464e-06\n"
     ]
    }
   ],
   "source": [
    "val = (2/3)*(1-(-1/2)**25)\n",
    "print(f'P(25) = {val}')\n",
    "print(f'Error percentage: {100*abs(val-(2/3))/(2/3)}')"
   ]
  },
  {
   "cell_type": "markdown",
   "id": "b9473f27",
   "metadata": {},
   "source": [
    "### Extension"
   ]
  },
  {
   "cell_type": "markdown",
   "id": "69049999",
   "metadata": {},
   "source": [
    "We can vary the bias of the coin, changing the chance of flipping a 1."
   ]
  },
  {
   "cell_type": "code",
   "execution_count": 57,
   "id": "b609ccba",
   "metadata": {
    "ExecuteTime": {
     "end_time": "2024-03-05T23:01:42.791309Z",
     "start_time": "2024-03-05T22:55:02.884763Z"
    },
    "scrolled": false
   },
   "outputs": [
    {
     "name": "stderr",
     "output_type": "stream",
     "text": [
      "100%|███████████████████████████████████████████| 21/21 [06:39<00:00, 19.04s/it]\n"
     ]
    },
    {
     "data": {
      "image/png": "[encoded data removed]",
      "text/plain": [
       "<Figure size 640x480 with 1 Axes>"
      ]
     },
     "metadata": {},
     "output_type": "display_data"
    }
   ],
   "source": [
    "iterations = 100000\n",
    "p_vals = np.linspace(0,1,21)\n",
    "probabilities = []\n",
    "\n",
    "for p in tqdm(p_vals):\n",
    "    ind = 0\n",
    "    for _ in range(iterations):\n",
    "        pos = 1\n",
    "        while pos < 25:\n",
    "            pos += np.random.choice([1,2], p=[p,1-p])\n",
    "\n",
    "        if pos == 25:\n",
    "            ind += 1\n",
    "    probabilities.append(ind/iterations)\n",
    "    \n",
    "plt.plot(p_vals, probabilities, 'xk', linestyle='-')\n",
    "plt.title('Probability of hitting 25')\n",
    "plt.xlabel('Chance of flippin 1')\n",
    "plt.ylabel('Probability')\n",
    "plt.xticks(np.linspace(0,1,11))\n",
    "plt.grid()\n",
    "plt.show()\n"
   ]
  },
  {
   "cell_type": "markdown",
   "id": "69532ada",
   "metadata": {},
   "source": [
    "Alternatively we can vary the sides of the coin. Let's first decide to give the coin sides $(1,k)$ for various $k$."
   ]
  },
  {
   "cell_type": "code",
   "execution_count": 51,
   "id": "a3ca94e6",
   "metadata": {
    "ExecuteTime": {
     "end_time": "2024-03-05T19:45:53.043744Z",
     "start_time": "2024-03-05T19:44:24.191847Z"
    }
   },
   "outputs": [
    {
     "name": "stderr",
     "output_type": "stream",
     "text": [
      "100%|███████████████████████████████████████████| 27/27 [01:28<00:00,  3.29s/it]\n"
     ]
    },
    {
     "data": {
      "image/png": "[encoded data removed]",
      "text/plain": [
       "<Figure size 640x480 with 1 Axes>"
      ]
     },
     "metadata": {},
     "output_type": "display_data"
    }
   ],
   "source": [
    "iterations = 100000\n",
    "n = 28\n",
    "n_vals = [i for i in range(2,n+1)]\n",
    "probs = []\n",
    "\n",
    "for k in tqdm(n_vals):\n",
    "    ind = 0\n",
    "    for _ in range(iterations):\n",
    "        pos = 1\n",
    "        flips = 0\n",
    "        while pos < 25:\n",
    "            pos += np.random.choice([1,k])\n",
    "            flips += 1\n",
    "        if pos == 25:\n",
    "            ind += 1\n",
    "    \n",
    "    probs.append(ind/iterations)\n",
    "    \n",
    "plt.plot(n_vals, probs, 'xb', linestyle='-')\n",
    "plt.title('Probability of hitting 25')\n",
    "plt.xlabel('k where coin has sides (1,k)')\n",
    "plt.ylabel('Probability')\n",
    "plt.xticks([i for i in range(n+1)][::2])\n",
    "plt.grid()\n",
    "plt.show()\n"
   ]
  },
  {
   "cell_type": "markdown",
   "id": "bef0d578",
   "metadata": {},
   "source": [
    "Or what if we used $n$ sided dice instead?"
   ]
  },
  {
   "cell_type": "code",
   "execution_count": 50,
   "id": "ced9d9c8",
   "metadata": {
    "ExecuteTime": {
     "end_time": "2024-03-05T19:06:40.343586Z",
     "start_time": "2024-03-05T19:04:42.713599Z"
    }
   },
   "outputs": [
    {
     "name": "stderr",
     "output_type": "stream",
     "text": [
      "100%|███████████████████████████████████████████| 30/30 [01:57<00:00,  3.92s/it]\n"
     ]
    },
    {
     "data": {
      "image/png": "[encoded data removed]",
      "text/plain": [
       "<Figure size 640x480 with 1 Axes>"
      ]
     },
     "metadata": {},
     "output_type": "display_data"
    }
   ],
   "source": [
    "iterations = 100000\n",
    "n = 30\n",
    "n_vals = [i for i in range(1,n+1)]\n",
    "probs = []\n",
    "\n",
    "for k in tqdm(n_vals):\n",
    "    ind = 0\n",
    "    for _ in range(iterations):\n",
    "        pos = 1\n",
    "        flips = 0\n",
    "        while pos < 25:\n",
    "            pos += np.random.choice([i for i in range(1, k+1)])\n",
    "            flips += 1\n",
    "        if pos == 25:\n",
    "            ind += 1\n",
    "    probs.append(ind/iterations)\n",
    "    \n",
    "plt.plot(n_vals, probs, 'xr', linestyle='-')\n",
    "plt.title('Probability of hitting 25')\n",
    "plt.xlabel('k sided die')\n",
    "plt.ylabel('Probability')\n",
    "plt.xticks([i for i in range(n+1)][::2])\n",
    "plt.grid()\n",
    "plt.show()\n"
   ]
  },
  {
   "cell_type": "code",
   "execution_count": null,
   "id": "88933065",
   "metadata": {},
   "outputs": [],
   "source": []
  }
 ],
 "metadata": {
  "hide_input": false,
  "kernelspec": {
   "display_name": "Python 3 (ipykernel)",
   "language": "python",
   "name": "python3"
  },
  "language_info": {
   "codemirror_mode": {
    "name": "ipython",
    "version": 3
   },
   "file_extension": ".py",
   "mimetype": "text/x-python",
   "name": "python",
   "nbconvert_exporter": "python",
   "pygments_lexer": "ipython3",
   "version": "3.11.5"
  }
 },
 "nbformat": 4,
 "nbformat_minor": 5
}
