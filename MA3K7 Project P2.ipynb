{
 "cells": [
  {
   "cell_type": "markdown",
   "id": "567697bb",
   "metadata": {},
   "source": [
    "### Imports"
   ]
  },
  {
   "cell_type": "code",
   "execution_count": 1,
   "id": "5161dd4d",
   "metadata": {
    "ExecuteTime": {
     "end_time": "2024-03-18T09:42:16.312302Z",
     "start_time": "2024-03-18T09:42:15.613602Z"
    }
   },
   "outputs": [],
   "source": [
    "import numpy as np\n",
    "import matplotlib.pyplot as plt\n",
    "import itertools\n",
    "import pandas as pd\n",
    "import random\n"
   ]
  },
  {
   "cell_type": "markdown",
   "id": "eb2863ed",
   "metadata": {},
   "source": [
    "### Functions"
   ]
  },
  {
   "cell_type": "code",
   "execution_count": 168,
   "id": "2a267bbf",
   "metadata": {
    "ExecuteTime": {
     "end_time": "2024-03-19T12:14:00.834978Z",
     "start_time": "2024-03-19T12:14:00.827336Z"
    }
   },
   "outputs": [],
   "source": [
    "def strings_old(n):\n",
    "    string_list = [str(i) for i in range(n)]\n",
    "    closed_loops = []\n",
    "    for _ in range(n):\n",
    "        a = random.choice(string_list)\n",
    "        b = random.choice(string_list)\n",
    "        if a == b:\n",
    "            string_list.remove(a)\n",
    "            closed_loops.append(a)\n",
    "        else:\n",
    "            string_list.remove(a)\n",
    "            string_list.remove(b)\n",
    "            string_list.append(a+b)\n",
    "    return closed_loops\n"
   ]
  },
  {
   "cell_type": "code",
   "execution_count": 169,
   "id": "e5be4eb6",
   "metadata": {
    "ExecuteTime": {
     "end_time": "2024-03-19T12:14:01.218577Z",
     "start_time": "2024-03-19T12:14:01.209924Z"
    }
   },
   "outputs": [],
   "source": [
    "def strings(n):\n",
    "    string_list = [[i] for i in range(n)]\n",
    "    closed_loops = []\n",
    "\n",
    "    for _ in range(n):\n",
    "        a = random.choice(string_list)\n",
    "        weights = [2 for _ in range(len(string_list))]\n",
    "        weights[string_list.index(a)] -= 1\n",
    "        b = random.choices(string_list, weights = weights)[0]\n",
    "        if a == b:\n",
    "            string_list.remove(a)\n",
    "            closed_loops.append(len(a))\n",
    "        else:\n",
    "            string_list.remove(b)\n",
    "            for element in b:\n",
    "                a.append(element)\n",
    "\n",
    "    return closed_loops\n"
   ]
  },
  {
   "cell_type": "code",
   "execution_count": 170,
   "id": "f29897bf",
   "metadata": {
    "ExecuteTime": {
     "end_time": "2024-03-19T12:14:01.668282Z",
     "start_time": "2024-03-19T12:14:01.659512Z"
    }
   },
   "outputs": [],
   "source": [
    "def eval_metrics(n, iterations):\n",
    "    \n",
    "    big_loops = 0\n",
    "    avg_loops = 0\n",
    "    avg_length = 0\n",
    "    biggest = 0\n",
    "    smallest = 0\n",
    "    \n",
    "    for i in range(iterations):\n",
    "        s = strings(n)\n",
    "        if max(s) > n/2:\n",
    "            big_loops += 1\n",
    "        avg_loops += len(s)\n",
    "        avg_length += np.mean(s)\n",
    "        biggest += max(s)\n",
    "        smallest += min(s)\n",
    "\n",
    "    big_loops /= iterations\n",
    "    avg_loops /= iterations \n",
    "    avg_length /= iterations\n",
    "    biggest /= iterations\n",
    "    smallest /= iterations\n",
    "\n",
    "    return big_loops, avg_loops, avg_length, biggest, smallest"
   ]
  },
  {
   "cell_type": "markdown",
   "id": "090407c5",
   "metadata": {},
   "source": [
    "### Main"
   ]
  },
  {
   "cell_type": "code",
   "execution_count": 173,
   "id": "d3da8e4b",
   "metadata": {
    "ExecuteTime": {
     "end_time": "2024-03-21T16:03:33.597432Z",
     "start_time": "2024-03-21T16:03:28.836992Z"
    }
   },
   "outputs": [
    {
     "data": {
      "text/html": [
       "<div>\n",
       "<style scoped>\n",
       "    .dataframe tbody tr th:only-of-type {\n",
       "        vertical-align: middle;\n",
       "    }\n",
       "\n",
       "    .dataframe tbody tr th {\n",
       "        vertical-align: top;\n",
       "    }\n",
       "\n",
       "    .dataframe thead th {\n",
       "        text-align: right;\n",
       "    }\n",
       "</style>\n",
       "<table border=\"1\" class=\"dataframe\">\n",
       "  <thead>\n",
       "    <tr style=\"text-align: right;\">\n",
       "      <th></th>\n",
       "      <th>Data</th>\n",
       "      <th>Value</th>\n",
       "    </tr>\n",
       "  </thead>\n",
       "  <tbody>\n",
       "    <tr>\n",
       "      <th>0</th>\n",
       "      <td>P(max loop size&gt;50)</td>\n",
       "      <td>0.87620</td>\n",
       "    </tr>\n",
       "    <tr>\n",
       "      <th>1</th>\n",
       "      <td>Avg loops</td>\n",
       "      <td>3.26970</td>\n",
       "    </tr>\n",
       "    <tr>\n",
       "      <th>2</th>\n",
       "      <td>Avg length</td>\n",
       "      <td>38.59727</td>\n",
       "    </tr>\n",
       "    <tr>\n",
       "      <th>3</th>\n",
       "      <td>Avg max</td>\n",
       "      <td>75.98960</td>\n",
       "    </tr>\n",
       "    <tr>\n",
       "      <th>4</th>\n",
       "      <td>Avg min</td>\n",
       "      <td>14.17900</td>\n",
       "    </tr>\n",
       "  </tbody>\n",
       "</table>\n",
       "</div>"
      ],
      "text/plain": [
       "                  Data     Value\n",
       "0  P(max loop size>50)   0.87620\n",
       "1            Avg loops   3.26970\n",
       "2           Avg length  38.59727\n",
       "3              Avg max  75.98960\n",
       "4              Avg min  14.17900"
      ]
     },
     "metadata": {},
     "output_type": "display_data"
    }
   ],
   "source": [
    "n = 100\n",
    "iterations = 10000\n",
    "\n",
    "df = pd.DataFrame({\n",
    "    'Data': [f'P(max loop size>{int(n/2)})', 'Avg loops', 'Avg length', 'Avg max', 'Avg min'],\n",
    "    'Value': eval_metrics(n, iterations)\n",
    "})\n",
    "\n",
    "display(df)\n"
   ]
  },
  {
   "cell_type": "code",
   "execution_count": null,
   "id": "f4ab60b5",
   "metadata": {},
   "outputs": [],
   "source": []
  }
 ],
 "metadata": {
  "hide_input": false,
  "kernelspec": {
   "display_name": "Python 3 (ipykernel)",
   "language": "python",
   "name": "python3"
  },
  "language_info": {
   "codemirror_mode": {
    "name": "ipython",
    "version": 3
   },
   "file_extension": ".py",
   "mimetype": "text/x-python",
   "name": "python",
   "nbconvert_exporter": "python",
   "pygments_lexer": "ipython3",
   "version": "3.11.5"
  }
 },
 "nbformat": 4,
 "nbformat_minor": 5
}
