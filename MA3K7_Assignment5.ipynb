{
 "cells": [
  {
   "cell_type": "markdown",
   "id": "d104c618",
   "metadata": {},
   "source": [
    "### Imports"
   ]
  },
  {
   "cell_type": "code",
   "execution_count": 1,
   "id": "afc794f4",
   "metadata": {
    "ExecuteTime": {
     "end_time": "2024-03-16T10:44:26.763287Z",
     "start_time": "2024-03-16T10:44:26.396280Z"
    }
   },
   "outputs": [],
   "source": [
    "import numpy as np\n",
    "import matplotlib.pyplot as plt\n",
    "import random\n",
    "import itertools\n",
    "from tqdm import tqdm\n"
   ]
  },
  {
   "cell_type": "markdown",
   "id": "97abd6d9",
   "metadata": {
    "heading_collapsed": true
   },
   "source": [
    "### Functions"
   ]
  },
  {
   "cell_type": "code",
   "execution_count": 2,
   "id": "5f001418",
   "metadata": {
    "ExecuteTime": {
     "end_time": "2024-03-16T10:44:26.767079Z",
     "start_time": "2024-03-16T10:44:26.764409Z"
    },
    "hidden": true
   },
   "outputs": [],
   "source": [
    "def check_next_to(a, b, sequence):\n",
    "  \n",
    "    '''checks if two elements are next to each other'''\n",
    "    \n",
    "    if a not in sequence or b not in sequence:\n",
    "        return False\n",
    "    \n",
    "    i = sequence.index(a)\n",
    "    \n",
    "    if i == 0:\n",
    "        if sequence[i+1] == b:\n",
    "            return True\n",
    "    elif i == len(sequence) - 1:\n",
    "        if sequence[i-1] == b:\n",
    "            return True\n",
    "    else:\n",
    "        if sequence[i+1] == b or sequence[i-1] == b:\n",
    "            return True\n",
    "    \n",
    "    return False"
   ]
  },
  {
   "cell_type": "code",
   "execution_count": 3,
   "id": "79166729",
   "metadata": {
    "ExecuteTime": {
     "end_time": "2024-03-16T10:44:26.770410Z",
     "start_time": "2024-03-16T10:44:26.768556Z"
    },
    "hidden": true
   },
   "outputs": [],
   "source": [
    "def rule_checker_4(sequence):\n",
    "    \n",
    "    '''checks sequence is possible for the 2x2 case'''\n",
    "    \n",
    "    checks = [\n",
    "        check_next_to(1, 4, sequence),\n",
    "        check_next_to(2, 3, sequence)\n",
    "    ]\n",
    "    \n",
    "    if True in checks:\n",
    "        return False\n",
    "\n",
    "    return True\n"
   ]
  },
  {
   "cell_type": "code",
   "execution_count": 4,
   "id": "e60bc828",
   "metadata": {
    "ExecuteTime": {
     "end_time": "2024-03-16T10:44:26.775121Z",
     "start_time": "2024-03-16T10:44:26.771170Z"
    },
    "hidden": true
   },
   "outputs": [],
   "source": [
    "def rule_checker_9(sequence):\n",
    "    \n",
    "    '''checks sequence is possible for the 3x3 case'''\n",
    "\n",
    "    checks = [\n",
    "        check_next_to(1, 3, sequence),\n",
    "        check_next_to(1, 5, sequence),\n",
    "        check_next_to(1, 6, sequence),\n",
    "        check_next_to(1, 7, sequence),\n",
    "        check_next_to(1, 8, sequence),\n",
    "        check_next_to(1, 9, sequence),\n",
    "        check_next_to(2, 4, sequence),\n",
    "        check_next_to(2, 6, sequence),\n",
    "        check_next_to(2, 7, sequence),\n",
    "        check_next_to(2, 8, sequence),\n",
    "        check_next_to(2, 9, sequence),\n",
    "        check_next_to(3, 4, sequence),\n",
    "        check_next_to(3, 5, sequence),\n",
    "        check_next_to(3, 7, sequence),\n",
    "        check_next_to(3, 8, sequence),\n",
    "        check_next_to(3, 9, sequence),\n",
    "        check_next_to(4, 6, sequence),\n",
    "        check_next_to(4, 8, sequence),\n",
    "        check_next_to(4, 9, sequence),\n",
    "        check_next_to(5, 7, sequence),\n",
    "        check_next_to(5, 9, sequence),\n",
    "        check_next_to(6, 7, sequence),\n",
    "        check_next_to(6, 8, sequence),\n",
    "        check_next_to(7, 9, sequence)\n",
    "    ]\n",
    "    \n",
    "    if True in checks:\n",
    "        return False\n",
    "\n",
    "    return True\n"
   ]
  },
  {
   "cell_type": "markdown",
   "id": "460a82dc",
   "metadata": {},
   "source": [
    "### Main"
   ]
  },
  {
   "cell_type": "markdown",
   "id": "471d3172",
   "metadata": {},
   "source": [
    "First let's verify the 2x2 case."
   ]
  },
  {
   "cell_type": "code",
   "execution_count": 5,
   "id": "7ff8e4c6",
   "metadata": {
    "ExecuteTime": {
     "end_time": "2024-03-16T10:44:26.778230Z",
     "start_time": "2024-03-16T10:44:26.776022Z"
    }
   },
   "outputs": [
    {
     "name": "stdout",
     "output_type": "stream",
     "text": [
      "24\n"
     ]
    }
   ],
   "source": [
    "sequences = []\n",
    "\n",
    "for k in range(2,5):\n",
    "    for perm in itertools.permutations([1,2,3,4], k):\n",
    "        sequences.append(perm)\n",
    "\n",
    "total_4 = 0\n",
    "\n",
    "for sequence in sequences:\n",
    "    if rule_checker_4(sequence):\n",
    "        total_4 +=1\n",
    "        \n",
    "print(total_4)\n"
   ]
  },
  {
   "cell_type": "markdown",
   "id": "47539996",
   "metadata": {},
   "source": [
    "Now let's test for the 3x3 case and note down the valid sequences to check later."
   ]
  },
  {
   "cell_type": "code",
   "execution_count": 6,
   "id": "9c7c3b7b",
   "metadata": {
    "ExecuteTime": {
     "end_time": "2024-03-16T10:44:32.285201Z",
     "start_time": "2024-03-16T10:44:26.779206Z"
    }
   },
   "outputs": [
    {
     "name": "stdout",
     "output_type": "stream",
     "text": [
      "644\n"
     ]
    }
   ],
   "source": [
    "sequences = []\n",
    "\n",
    "for k in range(2,10):\n",
    "    for perm in itertools.permutations([i for i in range(1,10)], k):\n",
    "        sequences.append(perm)\n",
    "\n",
    "total_9 = 0\n",
    "valid_sequences = []\n",
    "\n",
    "for sequence in sequences:\n",
    "    if rule_checker_9(sequence):\n",
    "        valid_sequences.append(sequence)\n",
    "        total_9 +=1\n",
    "\n",
    "print(total_9)\n"
   ]
  },
  {
   "cell_type": "markdown",
   "id": "d7bddbe8",
   "metadata": {},
   "source": [
    "Now let's check some random sequences from the viable list."
   ]
  },
  {
   "cell_type": "code",
   "execution_count": 8,
   "id": "342c0a0d",
   "metadata": {
    "ExecuteTime": {
     "end_time": "2024-03-16T10:44:32.293049Z",
     "start_time": "2024-03-16T10:44:32.290996Z"
    }
   },
   "outputs": [
    {
     "name": "stdout",
     "output_type": "stream",
     "text": [
      "(9, 6, 3, 2, 5, 4)\n",
      "(7, 4, 5, 6)\n",
      "(4, 5, 8, 9, 6, 3)\n",
      "(1, 2, 3, 6, 9, 8, 5)\n",
      "(5, 6, 3, 2, 1)\n"
     ]
    }
   ],
   "source": [
    "indices_to_check = [random.randint(0, total_9) for _ in range(5)]\n",
    "for index in indices_to_check:\n",
    "    print(valid_sequences[index])\n",
    "    "
   ]
  },
  {
   "cell_type": "markdown",
   "id": "52f492f7",
   "metadata": {},
   "source": [
    "### Extension"
   ]
  },
  {
   "cell_type": "code",
   "execution_count": null,
   "id": "fa61a382",
   "metadata": {},
   "outputs": [],
   "source": [
    "def rule_checker_16(sequence):\n",
    "    \n",
    "    '''checks sequence is possible for the 4x4 case'''\n",
    "\n",
    "    1 2 3 4\n",
    "    5 6 7 8\n",
    "    9 10 11 12\n",
    "    13 14 15 16\n",
    "    \n",
    "    checks = [\n",
    "        check_next_to(1, 3, sequence),\n",
    "        check_next_to(1, 4, sequence),\n",
    "        check_next_to(1, 6, sequence),\n",
    "        check_next_to(1, 7, sequence),\n",
    "        check_next_to(1, 8, sequence),\n",
    "        check_next_to(1, 9, sequence),\n",
    "        check_next_to(1, 10, sequence),\n",
    "        check_next_to(1, 11, sequence),\n",
    "        check_next_to(1, 12, sequence),\n",
    "        check_next_to(1, 13, sequence),\n",
    "        check_next_to(1, 14, sequence),\n",
    "        check_next_to(1, 15, sequence),\n",
    "        check_next_to(1, 16, sequence),\n",
    "        check_next_to(2, 4, sequence),\n",
    "        check_next_to(2, 5, sequence),\n",
    "        check_next_to(2, 7, sequence),\n",
    "        check_next_to(2, 8, sequence),\n",
    "        check_next_to(2, 9, sequence),\n",
    "        check_next_to(2, 10, sequence),\n",
    "        check_next_to(2, 11, sequence),\n",
    "        check_next_to(2, 12, sequence),\n",
    "        check_next_to(2, 13, sequence),\n",
    "        check_next_to(2, 14, sequence),\n",
    "        check_next_to(2, 15, sequence),\n",
    "        check_next_to(2, 16, sequence),\n",
    "        check_next_to(3, 5, sequence),\n",
    "        check_next_to(3, 6, sequence),\n",
    "        check_next_to(2, 8, sequence),\n",
    "        check_next_to(3, 9, sequence),\n",
    "        check_next_to(3, 10, sequence),\n",
    "        check_next_to(3, 11, sequence),\n",
    "        check_next_to(3, 12, sequence),\n",
    "        check_next_to(3, 13, sequence),\n",
    "        check_next_to(3, 14, sequence),\n",
    "        check_next_to(3, 15, sequence),\n",
    "        check_next_to(3, 16, sequence),\n",
    "        check_next_to(5, 9, sequence),\n",
    "        check_next_to(6, 7, sequence),\n",
    "        check_next_to(6, 8, sequence),\n",
    "        check_next_to(7, 9, sequence)\n",
    "    ]\n",
    "    \n",
    "    if True in checks:\n",
    "        return False\n",
    "\n",
    "    return True\n"
   ]
  }
 ],
 "metadata": {
  "hide_input": false,
  "kernelspec": {
   "display_name": "Python 3 (ipykernel)",
   "language": "python",
   "name": "python3"
  },
  "language_info": {
   "codemirror_mode": {
    "name": "ipython",
    "version": 3
   },
   "file_extension": ".py",
   "mimetype": "text/x-python",
   "name": "python",
   "nbconvert_exporter": "python",
   "pygments_lexer": "ipython3",
   "version": "3.11.5"
  }
 },
 "nbformat": 4,
 "nbformat_minor": 5
}
